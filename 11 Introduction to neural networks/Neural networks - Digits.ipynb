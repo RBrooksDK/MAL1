{
 "cells": [
  {
   "cell_type": "code",
   "execution_count": null,
   "id": "b26dae0f",
   "metadata": {},
   "outputs": [],
   "source": [
    "%matplotlib inline\n",
    "\n",
    "import tensorflow as tf\n",
    "\n",
    "from sklearn.datasets import load_digits\n",
    "from sklearn.model_selection import train_test_split\n",
    "\n",
    "import matplotlib.pyplot as plt\n",
    "\n",
    "from tensorflow.keras.models import Sequential\n",
    "from tensorflow.keras.layers import Dense\n",
    "from tensorflow.keras.utils import to_categorical\n",
    "from tensorflow.keras import optimizers\n",
    "from tensorflow.keras.layers import Dropout\n",
    "from tensorflow.keras import regularizers\n",
    "\n",
    "import numpy as np\n",
    "from numpy.random import seed, randint"
   ]
  },
  {
   "cell_type": "markdown",
   "id": "87ac7ab7",
   "metadata": {},
   "source": [
    "# Getting the data"
   ]
  },
  {
   "cell_type": "code",
   "execution_count": null,
   "id": "39c71894",
   "metadata": {},
   "outputs": [],
   "source": [
    "digits = load_digits()\n",
    "\n",
    "a = randint(low = 0, high = 1796)\n",
    "plt.imshow(digits.images[a])\n",
    "print(\"This digit is {}\".format(digits.target[a]))"
   ]
  },
  {
   "cell_type": "markdown",
   "id": "d46a239d",
   "metadata": {},
   "source": [
    "# Training the neural network"
   ]
  },
  {
   "cell_type": "code",
   "execution_count": null,
   "id": "637eaea9",
   "metadata": {},
   "outputs": [],
   "source": [
    "#to be added in class"
   ]
  },
  {
   "cell_type": "code",
   "execution_count": null,
   "id": "e794eed9",
   "metadata": {},
   "outputs": [],
   "source": [
    "#to be added in class"
   ]
  },
  {
   "cell_type": "code",
   "execution_count": null,
   "id": "823bffdc",
   "metadata": {},
   "outputs": [],
   "source": [
    "plt.figure()\n",
    "plt.title(\"Learning curves\")\n",
    "plt.xlabel(\"Epoch\")\n",
    "plt.ylabel(\"Cross entropy loss\")\n",
    "plt.plot(history.history['loss'], label = 'train')\n",
    "plt.plot(history.history['val_loss'], label = 'valid')\n",
    "plt.legend()\n",
    "plt.show()"
   ]
  },
  {
   "cell_type": "code",
   "execution_count": null,
   "id": "8bf937d0",
   "metadata": {},
   "outputs": [],
   "source": [
    "print(\"Loss + accuracy on train data: {}\".format(model.evaluate(X_train, Y_train)))\n",
    "print(\"Loss + accuracy on test data: {}\".format(model.evaluate(X_test, Y_test)))"
   ]
  },
  {
   "cell_type": "markdown",
   "id": "3fc6fc96",
   "metadata": {},
   "source": [
    "# Consider misclassified digits"
   ]
  },
  {
   "cell_type": "code",
   "execution_count": null,
   "id": "3ca110a9",
   "metadata": {},
   "outputs": [],
   "source": [
    "probabilities = np.array(model.predict(X_test))\n",
    "predictions = np.argmax(probabilities, axis = 1) #what does the model predict\n",
    "labels = np.argmax(Y_test, axis = 1) #what are the actual labels\n",
    "\n",
    "print(\"Predictions = {}\".format(predictions[0:30]))\n",
    "print(\"Labels      = {}\".format(labels[0:30]))"
   ]
  },
  {
   "cell_type": "code",
   "execution_count": null,
   "id": "0b427657",
   "metadata": {},
   "outputs": [],
   "source": [
    "misclas_idxs = np.argwhere(predictions != labels)\n",
    "\n",
    "b = randint(low = 0, high = len(misclas_idxs) - 1) #choose a random index\n",
    "a = misclas_idxs[b][0] # find out what image that index is\n",
    "plt.imshow(np.reshape(X_test[a], (8,8)))\n",
    "print(\"This digit is {}, but classified as {}.\".format(labels[a], predictions[a]))"
   ]
  },
  {
   "cell_type": "code",
   "execution_count": null,
   "id": "e8c2ffe6",
   "metadata": {},
   "outputs": [],
   "source": []
  }
 ],
 "metadata": {
  "kernelspec": {
   "display_name": "Python 3 (ipykernel)",
   "language": "python",
   "name": "python3"
  },
  "language_info": {
   "codemirror_mode": {
    "name": "ipython",
    "version": 3
   },
   "file_extension": ".py",
   "mimetype": "text/x-python",
   "name": "python",
   "nbconvert_exporter": "python",
   "pygments_lexer": "ipython3",
   "version": "3.9.12"
  }
 },
 "nbformat": 4,
 "nbformat_minor": 5
}
