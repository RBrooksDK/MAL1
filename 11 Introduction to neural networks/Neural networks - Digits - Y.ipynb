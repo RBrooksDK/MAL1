{
 "cells": [
  {
   "cell_type": "code",
   "execution_count": 1,
   "id": "b26dae0f",
   "metadata": {},
   "outputs": [
    {
     "name": "stderr",
     "output_type": "stream",
     "text": [
      "C:\\Users\\frbj\\Anaconda3\\lib\\site-packages\\scipy\\__init__.py:146: UserWarning: A NumPy version >=1.16.5 and <1.23.0 is required for this version of SciPy (detected version 1.23.0\n",
      "  warnings.warn(f\"A NumPy version >={np_minversion} and <{np_maxversion}\"\n"
     ]
    }
   ],
   "source": [
    "%matplotlib inline\n",
    "\n",
    "import tensorflow as tf\n",
    "\n",
    "from sklearn.datasets import load_digits\n",
    "from sklearn.model_selection import train_test_split\n",
    "\n",
    "import matplotlib.pyplot as plt\n",
    "\n",
    "from tensorflow.keras.models import Sequential\n",
    "from tensorflow.keras.layers import Dense\n",
    "from tensorflow.keras.utils import to_categorical\n",
    "from tensorflow.keras import optimizers\n",
    "from tensorflow.keras.layers import Dropout\n",
    "from tensorflow.keras import regularizers\n",
    "\n",
    "import numpy as np\n",
    "from numpy.random import seed, randint"
   ]
  },
  {
   "cell_type": "markdown",
   "id": "87ac7ab7",
   "metadata": {},
   "source": [
    "# Getting the data"
   ]
  },
  {
   "cell_type": "code",
   "execution_count": 9,
   "id": "39c71894",
   "metadata": {},
   "outputs": [
    {
     "name": "stdout",
     "output_type": "stream",
     "text": [
      "This digit is 6\n"
     ]
    },
    {
     "data": {
      "image/png": "[encoded data removed]",
      "text/plain": [
       "<Figure size 432x288 with 1 Axes>"
      ]
     },
     "metadata": {
      "needs_background": "light"
     },
     "output_type": "display_data"
    }
   ],
   "source": [
    "digits = load_digits()\n",
    "\n",
    "a = randint(low = 0, high = 1796)\n",
    "plt.imshow(digits.images[a])\n",
    "print(\"This digit is {}\".format(digits.target[a]))"
   ]
  },
  {
   "cell_type": "markdown",
   "id": "d46a239d",
   "metadata": {},
   "source": [
    "# Training the neural network"
   ]
  },
  {
   "cell_type": "code",
   "execution_count": 15,
   "id": "637eaea9",
   "metadata": {},
   "outputs": [],
   "source": [
    "num_classes = 10\n",
    "X = digits.data\n",
    "y = digits.target\n",
    "Y = to_categorical(y, num_classes)\n",
    "X_train, X_test, Y_train, Y_test = train_test_split(X, Y, stratify = Y)\n",
    "input_size = X[0].shape[0]"
   ]
  },
  {
   "cell_type": "code",
   "execution_count": 51,
   "id": "e794eed9",
   "metadata": {},
   "outputs": [
    {
     "name": "stdout",
     "output_type": "stream",
     "text": [
      "Epoch 1/40\n",
      "22/22 [==============================] - 1s 12ms/step - loss: 2.0533 - accuracy: 0.3547 - val_loss: 1.7212 - val_accuracy: 0.5667\n",
      "Epoch 2/40\n",
      "22/22 [==============================] - 0s 4ms/step - loss: 1.4815 - accuracy: 0.7354 - val_loss: 1.3276 - val_accuracy: 0.8148\n",
      "Epoch 3/40\n",
      "22/22 [==============================] - 0s 3ms/step - loss: 1.1673 - accuracy: 0.8524 - val_loss: 1.0852 - val_accuracy: 0.8259\n",
      "Epoch 4/40\n",
      "22/22 [==============================] - 0s 3ms/step - loss: 0.9565 - accuracy: 0.8858 - val_loss: 0.9238 - val_accuracy: 0.8593\n",
      "Epoch 5/40\n",
      "22/22 [==============================] - 0s 3ms/step - loss: 0.7994 - accuracy: 0.9006 - val_loss: 0.7915 - val_accuracy: 0.8667\n",
      "Epoch 6/40\n",
      "22/22 [==============================] - 0s 3ms/step - loss: 0.6859 - accuracy: 0.9146 - val_loss: 0.6833 - val_accuracy: 0.8852\n",
      "Epoch 7/40\n",
      "22/22 [==============================] - 0s 3ms/step - loss: 0.5973 - accuracy: 0.9248 - val_loss: 0.6035 - val_accuracy: 0.9148\n",
      "Epoch 8/40\n",
      "22/22 [==============================] - 0s 3ms/step - loss: 0.5307 - accuracy: 0.9276 - val_loss: 0.5366 - val_accuracy: 0.9148\n",
      "Epoch 9/40\n",
      "22/22 [==============================] - 0s 3ms/step - loss: 0.4686 - accuracy: 0.9434 - val_loss: 0.4956 - val_accuracy: 0.9296\n",
      "Epoch 10/40\n",
      "22/22 [==============================] - 0s 3ms/step - loss: 0.4227 - accuracy: 0.9461 - val_loss: 0.4517 - val_accuracy: 0.9333\n",
      "Epoch 11/40\n",
      "22/22 [==============================] - 0s 4ms/step - loss: 0.3858 - accuracy: 0.9564 - val_loss: 0.4336 - val_accuracy: 0.9185\n",
      "Epoch 12/40\n",
      "22/22 [==============================] - 0s 3ms/step - loss: 0.3522 - accuracy: 0.9629 - val_loss: 0.4081 - val_accuracy: 0.9333\n",
      "Epoch 13/40\n",
      "22/22 [==============================] - 0s 3ms/step - loss: 0.3282 - accuracy: 0.9629 - val_loss: 0.3733 - val_accuracy: 0.9481\n",
      "Epoch 14/40\n",
      "22/22 [==============================] - 0s 4ms/step - loss: 0.2997 - accuracy: 0.9666 - val_loss: 0.3511 - val_accuracy: 0.9444\n",
      "Epoch 15/40\n",
      "22/22 [==============================] - 0s 3ms/step - loss: 0.2808 - accuracy: 0.9684 - val_loss: 0.3291 - val_accuracy: 0.9444\n",
      "Epoch 16/40\n",
      "22/22 [==============================] - 0s 2ms/step - loss: 0.2660 - accuracy: 0.9666 - val_loss: 0.3191 - val_accuracy: 0.9444\n",
      "Epoch 17/40\n",
      "22/22 [==============================] - 0s 3ms/step - loss: 0.2459 - accuracy: 0.9721 - val_loss: 0.3024 - val_accuracy: 0.9481\n",
      "Epoch 18/40\n",
      "22/22 [==============================] - 0s 2ms/step - loss: 0.2328 - accuracy: 0.9731 - val_loss: 0.3029 - val_accuracy: 0.9481\n",
      "Epoch 19/40\n",
      "22/22 [==============================] - 0s 3ms/step - loss: 0.2190 - accuracy: 0.9731 - val_loss: 0.2955 - val_accuracy: 0.9296\n",
      "Epoch 20/40\n",
      "22/22 [==============================] - 0s 4ms/step - loss: 0.2075 - accuracy: 0.9768 - val_loss: 0.2674 - val_accuracy: 0.9519\n",
      "Epoch 21/40\n",
      "22/22 [==============================] - 0s 4ms/step - loss: 0.1974 - accuracy: 0.9749 - val_loss: 0.2742 - val_accuracy: 0.9407\n",
      "Epoch 22/40\n",
      "22/22 [==============================] - 0s 3ms/step - loss: 0.1891 - accuracy: 0.9749 - val_loss: 0.2517 - val_accuracy: 0.9481\n",
      "Epoch 23/40\n",
      "22/22 [==============================] - 0s 3ms/step - loss: 0.1799 - accuracy: 0.9759 - val_loss: 0.2567 - val_accuracy: 0.9556\n",
      "Epoch 24/40\n",
      "22/22 [==============================] - 0s 3ms/step - loss: 0.1705 - accuracy: 0.9796 - val_loss: 0.2361 - val_accuracy: 0.9593\n",
      "Epoch 25/40\n",
      "22/22 [==============================] - 0s 4ms/step - loss: 0.1617 - accuracy: 0.9805 - val_loss: 0.2565 - val_accuracy: 0.9556\n",
      "Epoch 26/40\n",
      "22/22 [==============================] - 0s 3ms/step - loss: 0.1556 - accuracy: 0.9805 - val_loss: 0.2268 - val_accuracy: 0.9519\n",
      "Epoch 27/40\n",
      "22/22 [==============================] - 0s 3ms/step - loss: 0.1481 - accuracy: 0.9833 - val_loss: 0.2122 - val_accuracy: 0.9593\n",
      "Epoch 28/40\n",
      "22/22 [==============================] - 0s 3ms/step - loss: 0.1428 - accuracy: 0.9814 - val_loss: 0.2155 - val_accuracy: 0.9519\n",
      "Epoch 29/40\n",
      "22/22 [==============================] - 0s 3ms/step - loss: 0.1370 - accuracy: 0.9842 - val_loss: 0.2146 - val_accuracy: 0.9556\n",
      "Epoch 30/40\n",
      "22/22 [==============================] - 0s 3ms/step - loss: 0.1306 - accuracy: 0.9879 - val_loss: 0.2141 - val_accuracy: 0.9593\n",
      "Epoch 31/40\n",
      "22/22 [==============================] - 0s 3ms/step - loss: 0.1259 - accuracy: 0.9889 - val_loss: 0.2070 - val_accuracy: 0.9556\n",
      "Epoch 32/40\n",
      "22/22 [==============================] - 0s 3ms/step - loss: 0.1209 - accuracy: 0.9889 - val_loss: 0.2083 - val_accuracy: 0.9593\n",
      "Epoch 33/40\n",
      "22/22 [==============================] - 0s 2ms/step - loss: 0.1167 - accuracy: 0.9889 - val_loss: 0.1962 - val_accuracy: 0.9556\n",
      "Epoch 34/40\n",
      "22/22 [==============================] - 0s 2ms/step - loss: 0.1134 - accuracy: 0.9879 - val_loss: 0.2029 - val_accuracy: 0.9593\n",
      "Epoch 35/40\n",
      "22/22 [==============================] - 0s 3ms/step - loss: 0.1086 - accuracy: 0.9898 - val_loss: 0.1945 - val_accuracy: 0.9593\n",
      "Epoch 36/40\n",
      "22/22 [==============================] - 0s 2ms/step - loss: 0.1045 - accuracy: 0.9898 - val_loss: 0.1917 - val_accuracy: 0.9556\n",
      "Epoch 37/40\n",
      "22/22 [==============================] - 0s 3ms/step - loss: 0.1008 - accuracy: 0.9926 - val_loss: 0.1926 - val_accuracy: 0.9593\n",
      "Epoch 38/40\n",
      "22/22 [==============================] - 0s 3ms/step - loss: 0.1003 - accuracy: 0.9916 - val_loss: 0.1934 - val_accuracy: 0.9556\n",
      "Epoch 39/40\n",
      "22/22 [==============================] - 0s 3ms/step - loss: 0.0973 - accuracy: 0.9898 - val_loss: 0.1783 - val_accuracy: 0.9593\n",
      "Epoch 40/40\n",
      "22/22 [==============================] - 0s 3ms/step - loss: 0.0921 - accuracy: 0.9926 - val_loss: 0.1780 - val_accuracy: 0.9593\n"
     ]
    }
   ],
   "source": [
    "seed(0)\n",
    "tf.random.set_seed(0)\n",
    "\n",
    "model = Sequential() #initialize neural network\n",
    "model.add(Dense(units = 30, activation = 'sigmoid', input_dim = input_size)) #add the first hidden layer\n",
    "model.add(Dense(units = num_classes, activation = 'softmax')) #output layer\n",
    "\n",
    "sgd = optimizers.SGD(learning_rate = 0.1)\n",
    "model.compile(loss = 'categorical_crossentropy', optimizer = sgd, metrics = ['accuracy'])\n",
    "\n",
    "history = model.fit(X_train, Y_train, epochs = 40, batch_size = 50, validation_split = 0.2, verbose = 1)"
   ]
  },
  {
   "cell_type": "code",
   "execution_count": 52,
   "id": "823bffdc",
   "metadata": {},
   "outputs": [
    {
     "data": {
      "image/png": "[encoded data removed]",
      "text/plain": [
       "<Figure size 432x288 with 1 Axes>"
      ]
     },
     "metadata": {
      "needs_background": "light"
     },
     "output_type": "display_data"
    }
   ],
   "source": [
    "plt.figure()\n",
    "plt.title(\"Learning curves\")\n",
    "plt.xlabel(\"Epoch\")\n",
    "plt.ylabel(\"Cross entropy loss\")\n",
    "plt.plot(history.history['loss'], label = 'train')\n",
    "plt.plot(history.history['val_loss'], label = 'valid')\n",
    "plt.legend()\n",
    "plt.show()"
   ]
  },
  {
   "cell_type": "code",
   "execution_count": 53,
   "id": "8bf937d0",
   "metadata": {},
   "outputs": [
    {
     "name": "stdout",
     "output_type": "stream",
     "text": [
      "43/43 [==============================] - 0s 1ms/step - loss: 0.1067 - accuracy: 0.9874\n",
      "Loss + accuracy on train data: [0.10665908455848694, 0.9873793721199036]\n",
      "15/15 [==============================] - 0s 2ms/step - loss: 0.1541 - accuracy: 0.9711\n",
      "Loss + accuracy on test data: [0.15407782793045044, 0.9711111187934875]\n"
     ]
    }
   ],
   "source": [
    "print(\"Loss + accuracy on train data: {}\".format(model.evaluate(X_train, Y_train)))\n",
    "print(\"Loss + accuracy on test data: {}\".format(model.evaluate(X_test, Y_test)))"
   ]
  },
  {
   "cell_type": "markdown",
   "id": "3fc6fc96",
   "metadata": {},
   "source": [
    "# Consider misclassified digits"
   ]
  },
  {
   "cell_type": "code",
   "execution_count": 41,
   "id": "3ca110a9",
   "metadata": {},
   "outputs": [
    {
     "name": "stdout",
     "output_type": "stream",
     "text": [
      "15/15 [==============================] - 0s 1ms/step\n",
      "Predictions = [7 5 0 4 8 6 0 4 6 6 6 9 0 5 9 1 5 9 1 0 4 2 6 4 3 5 5 0 3 6]\n",
      "Labels      = [4 5 0 4 9 6 0 4 6 6 6 9 0 5 9 1 5 9 1 0 4 2 6 4 3 5 5 0 3 6]\n"
     ]
    }
   ],
   "source": [
    "probabilities = np.array(model.predict(X_test))\n",
    "predictions = np.argmax(probabilities, axis = 1) #what does the model predict\n",
    "labels = np.argmax(Y_test, axis = 1) #what are the actual labels\n",
    "\n",
    "print(\"Predictions = {}\".format(predictions[0:30]))\n",
    "print(\"Labels      = {}\".format(labels[0:30]))"
   ]
  },
  {
   "cell_type": "code",
   "execution_count": 42,
   "id": "0b427657",
   "metadata": {},
   "outputs": [
    {
     "name": "stdout",
     "output_type": "stream",
     "text": [
      "This digit is 2, but classified as 3.\n"
     ]
    },
    {
     "data": {
      "image/png": "[encoded data removed]",
      "text/plain": [
       "<Figure size 432x288 with 1 Axes>"
      ]
     },
     "metadata": {
      "needs_background": "light"
     },
     "output_type": "display_data"
    }
   ],
   "source": [
    "misclas_idxs = np.argwhere(predictions != labels)\n",
    "\n",
    "b = randint(low = 0, high = len(misclas_idxs) - 1) #choose a random index\n",
    "a = misclas_idxs[b][0] # find out what image that index is\n",
    "plt.imshow(np.reshape(X_test[a], (8,8)))\n",
    "print(\"This digit is {}, but classified as {}.\".format(labels[a], predictions[a]))"
   ]
  },
  {
   "cell_type": "code",
   "execution_count": null,
   "id": "e8c2ffe6",
   "metadata": {},
   "outputs": [],
   "source": []
  }
 ],
 "metadata": {
  "kernelspec": {
   "display_name": "Python 3 (ipykernel)",
   "language": "python",
   "name": "python3"
  },
  "language_info": {
   "codemirror_mode": {
    "name": "ipython",
    "version": 3
   },
   "file_extension": ".py",
   "mimetype": "text/x-python",
   "name": "python",
   "nbconvert_exporter": "python",
   "pygments_lexer": "ipython3",
   "version": "3.9.12"
  }
 },
 "nbformat": 4,
 "nbformat_minor": 5
}
