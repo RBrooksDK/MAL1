{
 "cells": [
  {
   "cell_type": "code",
   "execution_count": 1,
   "id": "b26dae0f",
   "metadata": {},
   "outputs": [
    {
     "name": "stderr",
     "output_type": "stream",
     "text": [
      "C:\\Users\\frbj\\Anaconda3\\lib\\site-packages\\scipy\\__init__.py:146: UserWarning: A NumPy version >=1.16.5 and <1.23.0 is required for this version of SciPy (detected version 1.23.0\n",
      "  warnings.warn(f\"A NumPy version >={np_minversion} and <{np_maxversion}\"\n"
     ]
    }
   ],
   "source": [
    "%matplotlib inline\n",
    "\n",
    "from tensorflow.keras.models import Sequential\n",
    "from tensorflow.keras.layers import Dense, Conv2D, MaxPooling2D, Flatten\n",
    "from tensorflow.keras.utils import to_categorical\n",
    "from tensorflow.keras import optimizers\n",
    "\n",
    "import matplotlib.pyplot as plt\n",
    "import numpy as np\n",
    "\n",
    "\n",
    "from sklearn.model_selection import train_test_split\n",
    "from sklearn.datasets import load_digits\n",
    "\n",
    "import tensorflow as tf\n",
    "from numpy.random import seed"
   ]
  },
  {
   "cell_type": "markdown",
   "id": "87ac7ab7",
   "metadata": {},
   "source": [
    "# Getting the data"
   ]
  },
  {
   "cell_type": "code",
   "execution_count": 2,
   "id": "39c71894",
   "metadata": {},
   "outputs": [],
   "source": [
    "digits = load_digits()"
   ]
  },
  {
   "cell_type": "markdown",
   "id": "93fce474",
   "metadata": {},
   "source": [
    "See the notebook for lecture 11 for an exploration of this dataset."
   ]
  },
  {
   "cell_type": "code",
   "execution_count": 3,
   "id": "dd283de5",
   "metadata": {},
   "outputs": [],
   "source": [
    "X = digits.data\n",
    "y = digits.target\n",
    "Y = to_categorical(y, 10)\n",
    "X = X.reshape([-1, 8, 8, 1])\n",
    "\n",
    "X_train, X_test, Y_train, Y_test = train_test_split(X, Y, stratify = Y)"
   ]
  },
  {
   "cell_type": "markdown",
   "id": "d46a239d",
   "metadata": {},
   "source": [
    "# Training the neural network"
   ]
  },
  {
   "cell_type": "code",
   "execution_count": 4,
   "id": "637eaea9",
   "metadata": {},
   "outputs": [
    {
     "name": "stdout",
     "output_type": "stream",
     "text": [
      "Epoch 1/10\n",
      "19/19 [==============================] - 4s 86ms/step - loss: 1.9137 - accuracy: 0.4087 - val_loss: 0.9338 - val_accuracy: 0.7457\n",
      "Epoch 2/10\n",
      "19/19 [==============================] - 0s 15ms/step - loss: 0.5012 - accuracy: 0.8875 - val_loss: 0.4012 - val_accuracy: 0.9037\n",
      "Epoch 3/10\n",
      "19/19 [==============================] - 0s 18ms/step - loss: 0.2891 - accuracy: 0.9384 - val_loss: 0.2874 - val_accuracy: 0.9284\n",
      "Epoch 4/10\n",
      "19/19 [==============================] - 0s 16ms/step - loss: 0.2132 - accuracy: 0.9586 - val_loss: 0.2787 - val_accuracy: 0.9136\n",
      "Epoch 5/10\n",
      "19/19 [==============================] - 0s 17ms/step - loss: 0.1678 - accuracy: 0.9671 - val_loss: 0.2092 - val_accuracy: 0.9531\n",
      "Epoch 6/10\n",
      "19/19 [==============================] - 0s 16ms/step - loss: 0.1422 - accuracy: 0.9766 - val_loss: 0.2065 - val_accuracy: 0.9481\n",
      "Epoch 7/10\n",
      "19/19 [==============================] - 0s 15ms/step - loss: 0.1173 - accuracy: 0.9809 - val_loss: 0.1771 - val_accuracy: 0.9580\n",
      "Epoch 8/10\n",
      "19/19 [==============================] - 0s 16ms/step - loss: 0.1011 - accuracy: 0.9798 - val_loss: 0.1681 - val_accuracy: 0.9704\n",
      "Epoch 9/10\n",
      "19/19 [==============================] - 0s 18ms/step - loss: 0.0879 - accuracy: 0.9873 - val_loss: 0.1605 - val_accuracy: 0.9605\n",
      "Epoch 10/10\n",
      "19/19 [==============================] - 0s 17ms/step - loss: 0.0817 - accuracy: 0.9851 - val_loss: 0.1471 - val_accuracy: 0.9704\n"
     ]
    }
   ],
   "source": [
    "seed(0)\n",
    "tf.random.set_seed(0)\n",
    "\n",
    "model = Sequential()\n",
    "model.add(Conv2D(32, (3,3), activation = 'tanh', input_shape = X_train[0].shape)) \n",
    "#32 feature maps, 3-by-3 local receptive fields\n",
    "model.add(MaxPooling2D(pool_size = (2,2))) #pooling layer\n",
    "model.add(Flatten())\n",
    "model.add(Dense(units = 10, activation = 'softmax')) #output layer\n",
    "\n",
    "sgd = optimizers.SGD(learning_rate = 0.1)\n",
    "model.compile(loss='categorical_crossentropy', optimizer = sgd, metrics = ['accuracy'])\n",
    "\n",
    "history = model.fit(X_train, Y_train, epochs = 10, batch_size = 50, validation_split = 0.3, verbose = 1)"
   ]
  },
  {
   "cell_type": "markdown",
   "id": "cda75fdb",
   "metadata": {},
   "source": [
    "# Evaluate the model"
   ]
  },
  {
   "cell_type": "code",
   "execution_count": 5,
   "id": "c5b8ef39",
   "metadata": {},
   "outputs": [
    {
     "name": "stdout",
     "output_type": "stream",
     "text": [
      "15/15 [==============================] - 0s 5ms/step - loss: 0.1227 - accuracy: 0.9689\n",
      "Accuracy on test data: [0.12270689010620117, 0.9688888788223267]\n"
     ]
    }
   ],
   "source": [
    "print(\"Accuracy on test data: {}\".format(model.evaluate(X_test, Y_test)))"
   ]
  },
  {
   "cell_type": "code",
   "execution_count": 6,
   "id": "23df5502",
   "metadata": {},
   "outputs": [
    {
     "data": {
      "text/plain": [
       "Text(0, 0.5, 'Accuracy')"
      ]
     },
     "execution_count": 6,
     "metadata": {},
     "output_type": "execute_result"
    },
    {
     "data": {
      "image/png": "[encoded data removed]",
      "text/plain": [
       "<Figure size 432x288 with 1 Axes>"
      ]
     },
     "metadata": {
      "needs_background": "light"
     },
     "output_type": "display_data"
    }
   ],
   "source": [
    "steps = len(history.history['accuracy'])\n",
    "plt.plot(np.arange(steps), history.history['accuracy'], label = 'Train')\n",
    "plt.plot(np.arange(steps), history.history['val_accuracy'], label = 'Validation')\n",
    "plt.legend()\n",
    "plt.xlabel('Steps')\n",
    "plt.ylabel('Accuracy')"
   ]
  },
  {
   "cell_type": "code",
   "execution_count": null,
   "id": "15be35ff",
   "metadata": {},
   "outputs": [],
   "source": []
  }
 ],
 "metadata": {
  "kernelspec": {
   "display_name": "Python 3 (ipykernel)",
   "language": "python",
   "name": "python3"
  },
  "language_info": {
   "codemirror_mode": {
    "name": "ipython",
    "version": 3
   },
   "file_extension": ".py",
   "mimetype": "text/x-python",
   "name": "python",
   "nbconvert_exporter": "python",
   "pygments_lexer": "ipython3",
   "version": "3.9.12"
  }
 },
 "nbformat": 4,
 "nbformat_minor": 5
}
